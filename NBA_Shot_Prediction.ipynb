{
  "cells": [
    {
      "cell_type": "markdown",
      "metadata": {
        "id": "view-in-github",
        "colab_type": "text"
      },
      "source": [
        "<a href=\"https://colab.research.google.com/github/Gajenders07/NBA-SHOT-PREDICTION/blob/main/NBA_Shot_Prediction.ipynb\" target=\"_parent\"><img src=\"https://colab.research.google.com/assets/colab-badge.svg\" alt=\"Open In Colab\"/></a>"
      ]
    },
    {
      "cell_type": "code",
      "execution_count": null,
      "metadata": {
        "id": "NI2bVVhQhlRF"
      },
      "outputs": [],
      "source": [
        "from xgboost import XGBClassifier\n",
        "from xgboost import plot_importance\n",
        "from sklearn.model_selection import GridSearchCV\n",
        "from sklearn.model_selection import train_test_split\n",
        "from sklearn.metrics import accuracy_score, confusion_matrix, classification_report\n",
        "from sklearn.metrics import roc_curve, auc\n",
        "from sklearn.svm import SVC\n",
        "from sklearn.preprocessing import StandardScaler\n",
        "from sklearn.ensemble import RandomForestClassifier\n",
        "import pandas as pd\n",
        "import numpy as np\n",
        "import seaborn as sns\n",
        "import matplotlib.pyplot as plt\n",
        "%matplotlib inline"
      ]
    },
    {
      "cell_type": "code",
      "source": [
        "from google.colab import drive\n",
        "drive.mount('/content/drive')"
      ],
      "metadata": {
        "colab": {
          "base_uri": "https://localhost:8080/"
        },
        "id": "LPdFF0nLYwAh",
        "outputId": "a63d87f1-7b8e-4e02-a30f-525fffcbe57f"
      },
      "execution_count": null,
      "outputs": [
        {
          "output_type": "stream",
          "name": "stdout",
          "text": [
            "Mounted at /content/drive\n"
          ]
        }
      ]
    },
    {
      "cell_type": "code",
      "execution_count": null,
      "metadata": {
        "id": "G_gfureHlNTR"
      },
      "outputs": [],
      "source": [
        "nba = pd.read_csv(\"/content/drive/MyDrive/Projects/shot_logs.csv\")\n",
        "df = nba.copy()\n",
        "df.head()\n"
      ]
    },
    {
      "cell_type": "code",
      "execution_count": null,
      "metadata": {
        "colab": {
          "base_uri": "https://localhost:8080/"
        },
        "id": "8UNFjE2WoyH2",
        "outputId": "290e67e2-b6dd-4dc6-dbfc-ef5195a63625"
      },
      "outputs": [
        {
          "output_type": "execute_result",
          "data": {
            "text/plain": [
              "(128069, 21)"
            ]
          },
          "metadata": {},
          "execution_count": 4
        }
      ],
      "source": [
        "df.shape\n"
      ]
    },
    {
      "cell_type": "code",
      "execution_count": null,
      "metadata": {
        "colab": {
          "base_uri": "https://localhost:8080/"
        },
        "id": "Y-6RgwdYwtI5",
        "outputId": "4cd11e8e-d343-48f7-a53d-4548b4ad0a3d"
      },
      "outputs": [
        {
          "output_type": "execute_result",
          "data": {
            "text/plain": [
              "GAME_ID                          0\n",
              "MATCHUP                          0\n",
              "LOCATION                         0\n",
              "W                                0\n",
              "FINAL_MARGIN                     0\n",
              "SHOT_NUMBER                      0\n",
              "PERIOD                           0\n",
              "GAME_CLOCK                       0\n",
              "SHOT_CLOCK                    5567\n",
              "DRIBBLES                         0\n",
              "TOUCH_TIME                       0\n",
              "SHOT_DIST                        0\n",
              "PTS_TYPE                         0\n",
              "SHOT_RESULT                      0\n",
              "CLOSEST_DEFENDER                 0\n",
              "CLOSEST_DEFENDER_PLAYER_ID       0\n",
              "CLOSE_DEF_DIST                   0\n",
              "FGM                              0\n",
              "PTS                              0\n",
              "player_name                      0\n",
              "player_id                        0\n",
              "dtype: int64"
            ]
          },
          "metadata": {},
          "execution_count": 5
        }
      ],
      "source": [
        "df.isnull().sum()\n"
      ]
    },
    {
      "cell_type": "code",
      "execution_count": null,
      "metadata": {
        "colab": {
          "base_uri": "https://localhost:8080/",
          "height": 533
        },
        "id": "cpYq6vUc00ok",
        "outputId": "69aed60f-de77-451a-a328-ac6cda443816"
      },
      "outputs": [
        {
          "output_type": "execute_result",
          "data": {
            "text/plain": [
              "      GAME_ID                     MATCHUP LOCATION  W  FINAL_MARGIN  \\\n",
              "2    21400899    MAR 04, 2015 - CHA @ BKN        A  W            24   \n",
              "24   21400845    FEB 25, 2015 - CHA @ CHI        A  W            12   \n",
              "54   21400768  FEB 08, 2015 - CHA vs. IND        H  L            -1   \n",
              "76   21400742  FEB 05, 2015 - CHA vs. WAS        H  W             7   \n",
              "129  21400611  JAN 19, 2015 - CHA vs. MIN        H  W            25   \n",
              "\n",
              "     SHOT_NUMBER  PERIOD GAME_CLOCK  SHOT_CLOCK  DRIBBLES  ...  SHOT_DIST  \\\n",
              "2              3       1       0:00         NaN         3  ...       10.1   \n",
              "24             6       2       0:04         NaN         0  ...       25.2   \n",
              "54            14       4       0:01         NaN         5  ...       34.4   \n",
              "76            10       3       0:01         NaN         2  ...       13.1   \n",
              "129            7       2       0:02         NaN         5  ...       12.0   \n",
              "\n",
              "     PTS_TYPE  SHOT_RESULT   CLOSEST_DEFENDER CLOSEST_DEFENDER_PLAYER_ID  \\\n",
              "2           2       missed  Bogdanovic, Bojan                     202711   \n",
              "24          3       missed      Butler, Jimmy                     202710   \n",
              "54          3       missed       Hill, George                     201588   \n",
              "76          2         made     Butler, Rasual                       2446   \n",
              "129         2       missed       Williams, Mo                       2590   \n",
              "\n",
              "     CLOSE_DEF_DIST  FGM  PTS    player_name player_id  \n",
              "2               0.9    0    0  brian roberts    203148  \n",
              "24              3.6    0    0  brian roberts    203148  \n",
              "54              3.6    0    0  brian roberts    203148  \n",
              "76              2.5    1    2  brian roberts    203148  \n",
              "129             4.0    0    0  brian roberts    203148  \n",
              "\n",
              "[5 rows x 21 columns]"
            ],
            "text/html": [
              "\n",
              "  <div id=\"df-9fd43038-1472-4afd-882c-b2f4e34b01f8\" class=\"colab-df-container\">\n",
              "    <div>\n",
              "<style scoped>\n",
              "    .dataframe tbody tr th:only-of-type {\n",
              "        vertical-align: middle;\n",
              "    }\n",
              "\n",
              "    .dataframe tbody tr th {\n",
              "        vertical-align: top;\n",
              "    }\n",
              "\n",
              "    .dataframe thead th {\n",
              "        text-align: right;\n",
              "    }\n",
              "</style>\n",
              "<table border=\"1\" class=\"dataframe\">\n",
              "  <thead>\n",
              "    <tr style=\"text-align: right;\">\n",
              "      <th></th>\n",
              "      <th>GAME_ID</th>\n",
              "      <th>MATCHUP</th>\n",
              "      <th>LOCATION</th>\n",
              "      <th>W</th>\n",
              "      <th>FINAL_MARGIN</th>\n",
              "      <th>SHOT_NUMBER</th>\n",
              "      <th>PERIOD</th>\n",
              "      <th>GAME_CLOCK</th>\n",
              "      <th>SHOT_CLOCK</th>\n",
              "      <th>DRIBBLES</th>\n",
              "      <th>...</th>\n",
              "      <th>SHOT_DIST</th>\n",
              "      <th>PTS_TYPE</th>\n",
              "      <th>SHOT_RESULT</th>\n",
              "      <th>CLOSEST_DEFENDER</th>\n",
              "      <th>CLOSEST_DEFENDER_PLAYER_ID</th>\n",
              "      <th>CLOSE_DEF_DIST</th>\n",
              "      <th>FGM</th>\n",
              "      <th>PTS</th>\n",
              "      <th>player_name</th>\n",
              "      <th>player_id</th>\n",
              "    </tr>\n",
              "  </thead>\n",
              "  <tbody>\n",
              "    <tr>\n",
              "      <th>2</th>\n",
              "      <td>21400899</td>\n",
              "      <td>MAR 04, 2015 - CHA @ BKN</td>\n",
              "      <td>A</td>\n",
              "      <td>W</td>\n",
              "      <td>24</td>\n",
              "      <td>3</td>\n",
              "      <td>1</td>\n",
              "      <td>0:00</td>\n",
              "      <td>NaN</td>\n",
              "      <td>3</td>\n",
              "      <td>...</td>\n",
              "      <td>10.1</td>\n",
              "      <td>2</td>\n",
              "      <td>missed</td>\n",
              "      <td>Bogdanovic, Bojan</td>\n",
              "      <td>202711</td>\n",
              "      <td>0.9</td>\n",
              "      <td>0</td>\n",
              "      <td>0</td>\n",
              "      <td>brian roberts</td>\n",
              "      <td>203148</td>\n",
              "    </tr>\n",
              "    <tr>\n",
              "      <th>24</th>\n",
              "      <td>21400845</td>\n",
              "      <td>FEB 25, 2015 - CHA @ CHI</td>\n",
              "      <td>A</td>\n",
              "      <td>W</td>\n",
              "      <td>12</td>\n",
              "      <td>6</td>\n",
              "      <td>2</td>\n",
              "      <td>0:04</td>\n",
              "      <td>NaN</td>\n",
              "      <td>0</td>\n",
              "      <td>...</td>\n",
              "      <td>25.2</td>\n",
              "      <td>3</td>\n",
              "      <td>missed</td>\n",
              "      <td>Butler, Jimmy</td>\n",
              "      <td>202710</td>\n",
              "      <td>3.6</td>\n",
              "      <td>0</td>\n",
              "      <td>0</td>\n",
              "      <td>brian roberts</td>\n",
              "      <td>203148</td>\n",
              "    </tr>\n",
              "    <tr>\n",
              "      <th>54</th>\n",
              "      <td>21400768</td>\n",
              "      <td>FEB 08, 2015 - CHA vs. IND</td>\n",
              "      <td>H</td>\n",
              "      <td>L</td>\n",
              "      <td>-1</td>\n",
              "      <td>14</td>\n",
              "      <td>4</td>\n",
              "      <td>0:01</td>\n",
              "      <td>NaN</td>\n",
              "      <td>5</td>\n",
              "      <td>...</td>\n",
              "      <td>34.4</td>\n",
              "      <td>3</td>\n",
              "      <td>missed</td>\n",
              "      <td>Hill, George</td>\n",
              "      <td>201588</td>\n",
              "      <td>3.6</td>\n",
              "      <td>0</td>\n",
              "      <td>0</td>\n",
              "      <td>brian roberts</td>\n",
              "      <td>203148</td>\n",
              "    </tr>\n",
              "    <tr>\n",
              "      <th>76</th>\n",
              "      <td>21400742</td>\n",
              "      <td>FEB 05, 2015 - CHA vs. WAS</td>\n",
              "      <td>H</td>\n",
              "      <td>W</td>\n",
              "      <td>7</td>\n",
              "      <td>10</td>\n",
              "      <td>3</td>\n",
              "      <td>0:01</td>\n",
              "      <td>NaN</td>\n",
              "      <td>2</td>\n",
              "      <td>...</td>\n",
              "      <td>13.1</td>\n",
              "      <td>2</td>\n",
              "      <td>made</td>\n",
              "      <td>Butler, Rasual</td>\n",
              "      <td>2446</td>\n",
              "      <td>2.5</td>\n",
              "      <td>1</td>\n",
              "      <td>2</td>\n",
              "      <td>brian roberts</td>\n",
              "      <td>203148</td>\n",
              "    </tr>\n",
              "    <tr>\n",
              "      <th>129</th>\n",
              "      <td>21400611</td>\n",
              "      <td>JAN 19, 2015 - CHA vs. MIN</td>\n",
              "      <td>H</td>\n",
              "      <td>W</td>\n",
              "      <td>25</td>\n",
              "      <td>7</td>\n",
              "      <td>2</td>\n",
              "      <td>0:02</td>\n",
              "      <td>NaN</td>\n",
              "      <td>5</td>\n",
              "      <td>...</td>\n",
              "      <td>12.0</td>\n",
              "      <td>2</td>\n",
              "      <td>missed</td>\n",
              "      <td>Williams, Mo</td>\n",
              "      <td>2590</td>\n",
              "      <td>4.0</td>\n",
              "      <td>0</td>\n",
              "      <td>0</td>\n",
              "      <td>brian roberts</td>\n",
              "      <td>203148</td>\n",
              "    </tr>\n",
              "  </tbody>\n",
              "</table>\n",
              "<p>5 rows × 21 columns</p>\n",
              "</div>\n",
              "    <div class=\"colab-df-buttons\">\n",
              "\n",
              "  <div class=\"colab-df-container\">\n",
              "    <button class=\"colab-df-convert\" onclick=\"convertToInteractive('df-9fd43038-1472-4afd-882c-b2f4e34b01f8')\"\n",
              "            title=\"Convert this dataframe to an interactive table.\"\n",
              "            style=\"display:none;\">\n",
              "\n",
              "  <svg xmlns=\"http://www.w3.org/2000/svg\" height=\"24px\" viewBox=\"0 -960 960 960\">\n",
              "    <path d=\"M120-120v-720h720v720H120Zm60-500h600v-160H180v160Zm220 220h160v-160H400v160Zm0 220h160v-160H400v160ZM180-400h160v-160H180v160Zm440 0h160v-160H620v160ZM180-180h160v-160H180v160Zm440 0h160v-160H620v160Z\"/>\n",
              "  </svg>\n",
              "    </button>\n",
              "\n",
              "  <style>\n",
              "    .colab-df-container {\n",
              "      display:flex;\n",
              "      gap: 12px;\n",
              "    }\n",
              "\n",
              "    .colab-df-convert {\n",
              "      background-color: #E8F0FE;\n",
              "      border: none;\n",
              "      border-radius: 50%;\n",
              "      cursor: pointer;\n",
              "      display: none;\n",
              "      fill: #1967D2;\n",
              "      height: 32px;\n",
              "      padding: 0 0 0 0;\n",
              "      width: 32px;\n",
              "    }\n",
              "\n",
              "    .colab-df-convert:hover {\n",
              "      background-color: #E2EBFA;\n",
              "      box-shadow: 0px 1px 2px rgba(60, 64, 67, 0.3), 0px 1px 3px 1px rgba(60, 64, 67, 0.15);\n",
              "      fill: #174EA6;\n",
              "    }\n",
              "\n",
              "    .colab-df-buttons div {\n",
              "      margin-bottom: 4px;\n",
              "    }\n",
              "\n",
              "    [theme=dark] .colab-df-convert {\n",
              "      background-color: #3B4455;\n",
              "      fill: #D2E3FC;\n",
              "    }\n",
              "\n",
              "    [theme=dark] .colab-df-convert:hover {\n",
              "      background-color: #434B5C;\n",
              "      box-shadow: 0px 1px 3px 1px rgba(0, 0, 0, 0.15);\n",
              "      filter: drop-shadow(0px 1px 2px rgba(0, 0, 0, 0.3));\n",
              "      fill: #FFFFFF;\n",
              "    }\n",
              "  </style>\n",
              "\n",
              "    <script>\n",
              "      const buttonEl =\n",
              "        document.querySelector('#df-9fd43038-1472-4afd-882c-b2f4e34b01f8 button.colab-df-convert');\n",
              "      buttonEl.style.display =\n",
              "        google.colab.kernel.accessAllowed ? 'block' : 'none';\n",
              "\n",
              "      async function convertToInteractive(key) {\n",
              "        const element = document.querySelector('#df-9fd43038-1472-4afd-882c-b2f4e34b01f8');\n",
              "        const dataTable =\n",
              "          await google.colab.kernel.invokeFunction('convertToInteractive',\n",
              "                                                    [key], {});\n",
              "        if (!dataTable) return;\n",
              "\n",
              "        const docLinkHtml = 'Like what you see? Visit the ' +\n",
              "          '<a target=\"_blank\" href=https://colab.research.google.com/notebooks/data_table.ipynb>data table notebook</a>'\n",
              "          + ' to learn more about interactive tables.';\n",
              "        element.innerHTML = '';\n",
              "        dataTable['output_type'] = 'display_data';\n",
              "        await google.colab.output.renderOutput(dataTable, element);\n",
              "        const docLink = document.createElement('div');\n",
              "        docLink.innerHTML = docLinkHtml;\n",
              "        element.appendChild(docLink);\n",
              "      }\n",
              "    </script>\n",
              "  </div>\n",
              "\n",
              "\n",
              "<div id=\"df-c912b347-e3f7-48c4-8f8f-d8ea909c0ce4\">\n",
              "  <button class=\"colab-df-quickchart\" onclick=\"quickchart('df-c912b347-e3f7-48c4-8f8f-d8ea909c0ce4')\"\n",
              "            title=\"Suggest charts\"\n",
              "            style=\"display:none;\">\n",
              "\n",
              "<svg xmlns=\"http://www.w3.org/2000/svg\" height=\"24px\"viewBox=\"0 0 24 24\"\n",
              "     width=\"24px\">\n",
              "    <g>\n",
              "        <path d=\"M19 3H5c-1.1 0-2 .9-2 2v14c0 1.1.9 2 2 2h14c1.1 0 2-.9 2-2V5c0-1.1-.9-2-2-2zM9 17H7v-7h2v7zm4 0h-2V7h2v10zm4 0h-2v-4h2v4z\"/>\n",
              "    </g>\n",
              "</svg>\n",
              "  </button>\n",
              "\n",
              "<style>\n",
              "  .colab-df-quickchart {\n",
              "      --bg-color: #E8F0FE;\n",
              "      --fill-color: #1967D2;\n",
              "      --hover-bg-color: #E2EBFA;\n",
              "      --hover-fill-color: #174EA6;\n",
              "      --disabled-fill-color: #AAA;\n",
              "      --disabled-bg-color: #DDD;\n",
              "  }\n",
              "\n",
              "  [theme=dark] .colab-df-quickchart {\n",
              "      --bg-color: #3B4455;\n",
              "      --fill-color: #D2E3FC;\n",
              "      --hover-bg-color: #434B5C;\n",
              "      --hover-fill-color: #FFFFFF;\n",
              "      --disabled-bg-color: #3B4455;\n",
              "      --disabled-fill-color: #666;\n",
              "  }\n",
              "\n",
              "  .colab-df-quickchart {\n",
              "    background-color: var(--bg-color);\n",
              "    border: none;\n",
              "    border-radius: 50%;\n",
              "    cursor: pointer;\n",
              "    display: none;\n",
              "    fill: var(--fill-color);\n",
              "    height: 32px;\n",
              "    padding: 0;\n",
              "    width: 32px;\n",
              "  }\n",
              "\n",
              "  .colab-df-quickchart:hover {\n",
              "    background-color: var(--hover-bg-color);\n",
              "    box-shadow: 0 1px 2px rgba(60, 64, 67, 0.3), 0 1px 3px 1px rgba(60, 64, 67, 0.15);\n",
              "    fill: var(--button-hover-fill-color);\n",
              "  }\n",
              "\n",
              "  .colab-df-quickchart-complete:disabled,\n",
              "  .colab-df-quickchart-complete:disabled:hover {\n",
              "    background-color: var(--disabled-bg-color);\n",
              "    fill: var(--disabled-fill-color);\n",
              "    box-shadow: none;\n",
              "  }\n",
              "\n",
              "  .colab-df-spinner {\n",
              "    border: 2px solid var(--fill-color);\n",
              "    border-color: transparent;\n",
              "    border-bottom-color: var(--fill-color);\n",
              "    animation:\n",
              "      spin 1s steps(1) infinite;\n",
              "  }\n",
              "\n",
              "  @keyframes spin {\n",
              "    0% {\n",
              "      border-color: transparent;\n",
              "      border-bottom-color: var(--fill-color);\n",
              "      border-left-color: var(--fill-color);\n",
              "    }\n",
              "    20% {\n",
              "      border-color: transparent;\n",
              "      border-left-color: var(--fill-color);\n",
              "      border-top-color: var(--fill-color);\n",
              "    }\n",
              "    30% {\n",
              "      border-color: transparent;\n",
              "      border-left-color: var(--fill-color);\n",
              "      border-top-color: var(--fill-color);\n",
              "      border-right-color: var(--fill-color);\n",
              "    }\n",
              "    40% {\n",
              "      border-color: transparent;\n",
              "      border-right-color: var(--fill-color);\n",
              "      border-top-color: var(--fill-color);\n",
              "    }\n",
              "    60% {\n",
              "      border-color: transparent;\n",
              "      border-right-color: var(--fill-color);\n",
              "    }\n",
              "    80% {\n",
              "      border-color: transparent;\n",
              "      border-right-color: var(--fill-color);\n",
              "      border-bottom-color: var(--fill-color);\n",
              "    }\n",
              "    90% {\n",
              "      border-color: transparent;\n",
              "      border-bottom-color: var(--fill-color);\n",
              "    }\n",
              "  }\n",
              "</style>\n",
              "\n",
              "  <script>\n",
              "    async function quickchart(key) {\n",
              "      const quickchartButtonEl =\n",
              "        document.querySelector('#' + key + ' button');\n",
              "      quickchartButtonEl.disabled = true;  // To prevent multiple clicks.\n",
              "      quickchartButtonEl.classList.add('colab-df-spinner');\n",
              "      try {\n",
              "        const charts = await google.colab.kernel.invokeFunction(\n",
              "            'suggestCharts', [key], {});\n",
              "      } catch (error) {\n",
              "        console.error('Error during call to suggestCharts:', error);\n",
              "      }\n",
              "      quickchartButtonEl.classList.remove('colab-df-spinner');\n",
              "      quickchartButtonEl.classList.add('colab-df-quickchart-complete');\n",
              "    }\n",
              "    (() => {\n",
              "      let quickchartButtonEl =\n",
              "        document.querySelector('#df-c912b347-e3f7-48c4-8f8f-d8ea909c0ce4 button');\n",
              "      quickchartButtonEl.style.display =\n",
              "        google.colab.kernel.accessAllowed ? 'block' : 'none';\n",
              "    })();\n",
              "  </script>\n",
              "</div>\n",
              "    </div>\n",
              "  </div>\n"
            ]
          },
          "metadata": {},
          "execution_count": 6
        }
      ],
      "source": [
        "df[df.SHOT_CLOCK.isnull()==True].head()\n"
      ]
    },
    {
      "cell_type": "code",
      "execution_count": null,
      "metadata": {
        "id": "gfc7E4lh08Ic"
      },
      "outputs": [],
      "source": [
        "df.SHOT_CLOCK = df.SHOT_CLOCK.fillna(df.SHOT_CLOCK.mean())"
      ]
    },
    {
      "cell_type": "code",
      "execution_count": null,
      "metadata": {
        "colab": {
          "base_uri": "https://localhost:8080/"
        },
        "id": "s-57drfy1j7P",
        "outputId": "bcb833d3-f4b8-4aa4-aae6-558c5a3734ea"
      },
      "outputs": [
        {
          "output_type": "execute_result",
          "data": {
            "text/plain": [
              "GAME_ID                       0\n",
              "MATCHUP                       0\n",
              "LOCATION                      0\n",
              "W                             0\n",
              "FINAL_MARGIN                  0\n",
              "SHOT_NUMBER                   0\n",
              "PERIOD                        0\n",
              "GAME_CLOCK                    0\n",
              "SHOT_CLOCK                    0\n",
              "DRIBBLES                      0\n",
              "TOUCH_TIME                    0\n",
              "SHOT_DIST                     0\n",
              "PTS_TYPE                      0\n",
              "SHOT_RESULT                   0\n",
              "CLOSEST_DEFENDER              0\n",
              "CLOSEST_DEFENDER_PLAYER_ID    0\n",
              "CLOSE_DEF_DIST                0\n",
              "FGM                           0\n",
              "PTS                           0\n",
              "player_name                   0\n",
              "player_id                     0\n",
              "dtype: int64"
            ]
          },
          "metadata": {},
          "execution_count": 8
        }
      ],
      "source": [
        "df.isnull().sum()"
      ]
    },
    {
      "cell_type": "code",
      "execution_count": null,
      "metadata": {
        "id": "At5ORlb01mAZ"
      },
      "outputs": [],
      "source": [
        "df.describe()"
      ]
    },
    {
      "cell_type": "code",
      "execution_count": null,
      "metadata": {
        "colab": {
          "base_uri": "https://localhost:8080/"
        },
        "id": "zqnhi2jy19W3",
        "outputId": "b3a98ec3-25bd-444f-eb13-45b55ba71e06"
      },
      "outputs": [
        {
          "output_type": "execute_result",
          "data": {
            "text/plain": [
              "312"
            ]
          },
          "metadata": {},
          "execution_count": 10
        }
      ],
      "source": [
        "len(df.TOUCH_TIME[df.TOUCH_TIME<0])\n"
      ]
    },
    {
      "cell_type": "code",
      "execution_count": null,
      "metadata": {
        "id": "F0HCSwT_5Hsl"
      },
      "outputs": [],
      "source": [
        "df.TOUCH_TIME[df.TOUCH_TIME<0] = df.TOUCH_TIME.mean()"
      ]
    },
    {
      "cell_type": "code",
      "execution_count": null,
      "metadata": {
        "colab": {
          "base_uri": "https://localhost:8080/"
        },
        "id": "oM88N_SwHOzC",
        "outputId": "7c313b80-08ae-41ed-e2c7-e2849458711c"
      },
      "outputs": [
        {
          "output_type": "execute_result",
          "data": {
            "text/plain": [
              "4"
            ]
          },
          "metadata": {},
          "execution_count": 12
        }
      ],
      "source": [
        "len(df.TOUCH_TIME[df.TOUCH_TIME>24.0])\n"
      ]
    },
    {
      "cell_type": "code",
      "execution_count": null,
      "metadata": {
        "id": "nR6Fyso2H63P",
        "colab": {
          "base_uri": "https://localhost:8080/"
        },
        "outputId": "ddcf9405-da68-4510-da61-367ec12ce18e"
      },
      "outputs": [
        {
          "output_type": "stream",
          "name": "stderr",
          "text": [
            "<ipython-input-13-311d7ed9d614>:1: SettingWithCopyWarning: \n",
            "A value is trying to be set on a copy of a slice from a DataFrame\n",
            "\n",
            "See the caveats in the documentation: https://pandas.pydata.org/pandas-docs/stable/user_guide/indexing.html#returning-a-view-versus-a-copy\n",
            "  df.TOUCH_TIME[df.TOUCH_TIME>24.0] = 24\n"
          ]
        }
      ],
      "source": [
        "df.TOUCH_TIME[df.TOUCH_TIME>24.0] = 24"
      ]
    },
    {
      "cell_type": "code",
      "execution_count": null,
      "metadata": {
        "colab": {
          "base_uri": "https://localhost:8080/",
          "height": 320
        },
        "id": "fPgRewMH5Nm-",
        "outputId": "d7717942-d7e9-4392-ed4a-2f05c30ea722"
      },
      "outputs": [
        {
          "output_type": "execute_result",
          "data": {
            "text/plain": [
              "            GAME_ID   FINAL_MARGIN    SHOT_NUMBER         PERIOD  \\\n",
              "count  1.280690e+05  128069.000000  128069.000000  128069.000000   \n",
              "mean   2.140045e+07       0.208723       6.506899       2.469427   \n",
              "std    2.578773e+02      13.233267       4.713260       1.139919   \n",
              "min    2.140000e+07     -53.000000       1.000000       1.000000   \n",
              "25%    2.140023e+07      -8.000000       3.000000       1.000000   \n",
              "50%    2.140045e+07       1.000000       5.000000       2.000000   \n",
              "75%    2.140067e+07       9.000000       9.000000       3.000000   \n",
              "max    2.140091e+07      53.000000      38.000000       7.000000   \n",
              "\n",
              "          SHOT_CLOCK       DRIBBLES     TOUCH_TIME      SHOT_DIST  \\\n",
              "count  128069.000000  128069.000000  128069.000000  128069.000000   \n",
              "mean       12.453344       2.023355       2.778681      13.571504   \n",
              "std         5.636611       3.477760       2.983448       8.888964   \n",
              "min         0.000000       0.000000       0.000000       0.000000   \n",
              "25%         8.400000       0.000000       0.900000       4.700000   \n",
              "50%        12.453344       1.000000       1.600000      13.700000   \n",
              "75%        16.400000       2.000000       3.700000      22.500000   \n",
              "max        24.000000      32.000000      24.000000      47.200000   \n",
              "\n",
              "            PTS_TYPE  CLOSEST_DEFENDER_PLAYER_ID  CLOSE_DEF_DIST  \\\n",
              "count  128069.000000               128069.000000   128069.000000   \n",
              "mean        2.264670               159038.487284        4.123015   \n",
              "std         0.441159                78791.172947        2.756446   \n",
              "min         2.000000                  708.000000        0.000000   \n",
              "25%         2.000000               101249.000000        2.300000   \n",
              "50%         2.000000               201949.000000        3.700000   \n",
              "75%         3.000000               203079.000000        5.300000   \n",
              "max         3.000000               530027.000000       53.200000   \n",
              "\n",
              "                 FGM            PTS      player_id  \n",
              "count  128069.000000  128069.000000  128069.000000  \n",
              "mean        0.452139       0.997314  157238.251247  \n",
              "std         0.497706       1.130978   79362.389336  \n",
              "min         0.000000       0.000000     708.000000  \n",
              "25%         0.000000       0.000000  101162.000000  \n",
              "50%         0.000000       0.000000  201939.000000  \n",
              "75%         1.000000       2.000000  202704.000000  \n",
              "max         1.000000       3.000000  204060.000000  "
            ],
            "text/html": [
              "\n",
              "  <div id=\"df-8b72ad8a-95c4-439f-b10a-c48cf159fbe7\" class=\"colab-df-container\">\n",
              "    <div>\n",
              "<style scoped>\n",
              "    .dataframe tbody tr th:only-of-type {\n",
              "        vertical-align: middle;\n",
              "    }\n",
              "\n",
              "    .dataframe tbody tr th {\n",
              "        vertical-align: top;\n",
              "    }\n",
              "\n",
              "    .dataframe thead th {\n",
              "        text-align: right;\n",
              "    }\n",
              "</style>\n",
              "<table border=\"1\" class=\"dataframe\">\n",
              "  <thead>\n",
              "    <tr style=\"text-align: right;\">\n",
              "      <th></th>\n",
              "      <th>GAME_ID</th>\n",
              "      <th>FINAL_MARGIN</th>\n",
              "      <th>SHOT_NUMBER</th>\n",
              "      <th>PERIOD</th>\n",
              "      <th>SHOT_CLOCK</th>\n",
              "      <th>DRIBBLES</th>\n",
              "      <th>TOUCH_TIME</th>\n",
              "      <th>SHOT_DIST</th>\n",
              "      <th>PTS_TYPE</th>\n",
              "      <th>CLOSEST_DEFENDER_PLAYER_ID</th>\n",
              "      <th>CLOSE_DEF_DIST</th>\n",
              "      <th>FGM</th>\n",
              "      <th>PTS</th>\n",
              "      <th>player_id</th>\n",
              "    </tr>\n",
              "  </thead>\n",
              "  <tbody>\n",
              "    <tr>\n",
              "      <th>count</th>\n",
              "      <td>1.280690e+05</td>\n",
              "      <td>128069.000000</td>\n",
              "      <td>128069.000000</td>\n",
              "      <td>128069.000000</td>\n",
              "      <td>128069.000000</td>\n",
              "      <td>128069.000000</td>\n",
              "      <td>128069.000000</td>\n",
              "      <td>128069.000000</td>\n",
              "      <td>128069.000000</td>\n",
              "      <td>128069.000000</td>\n",
              "      <td>128069.000000</td>\n",
              "      <td>128069.000000</td>\n",
              "      <td>128069.000000</td>\n",
              "      <td>128069.000000</td>\n",
              "    </tr>\n",
              "    <tr>\n",
              "      <th>mean</th>\n",
              "      <td>2.140045e+07</td>\n",
              "      <td>0.208723</td>\n",
              "      <td>6.506899</td>\n",
              "      <td>2.469427</td>\n",
              "      <td>12.453344</td>\n",
              "      <td>2.023355</td>\n",
              "      <td>2.778681</td>\n",
              "      <td>13.571504</td>\n",
              "      <td>2.264670</td>\n",
              "      <td>159038.487284</td>\n",
              "      <td>4.123015</td>\n",
              "      <td>0.452139</td>\n",
              "      <td>0.997314</td>\n",
              "      <td>157238.251247</td>\n",
              "    </tr>\n",
              "    <tr>\n",
              "      <th>std</th>\n",
              "      <td>2.578773e+02</td>\n",
              "      <td>13.233267</td>\n",
              "      <td>4.713260</td>\n",
              "      <td>1.139919</td>\n",
              "      <td>5.636611</td>\n",
              "      <td>3.477760</td>\n",
              "      <td>2.983448</td>\n",
              "      <td>8.888964</td>\n",
              "      <td>0.441159</td>\n",
              "      <td>78791.172947</td>\n",
              "      <td>2.756446</td>\n",
              "      <td>0.497706</td>\n",
              "      <td>1.130978</td>\n",
              "      <td>79362.389336</td>\n",
              "    </tr>\n",
              "    <tr>\n",
              "      <th>min</th>\n",
              "      <td>2.140000e+07</td>\n",
              "      <td>-53.000000</td>\n",
              "      <td>1.000000</td>\n",
              "      <td>1.000000</td>\n",
              "      <td>0.000000</td>\n",
              "      <td>0.000000</td>\n",
              "      <td>0.000000</td>\n",
              "      <td>0.000000</td>\n",
              "      <td>2.000000</td>\n",
              "      <td>708.000000</td>\n",
              "      <td>0.000000</td>\n",
              "      <td>0.000000</td>\n",
              "      <td>0.000000</td>\n",
              "      <td>708.000000</td>\n",
              "    </tr>\n",
              "    <tr>\n",
              "      <th>25%</th>\n",
              "      <td>2.140023e+07</td>\n",
              "      <td>-8.000000</td>\n",
              "      <td>3.000000</td>\n",
              "      <td>1.000000</td>\n",
              "      <td>8.400000</td>\n",
              "      <td>0.000000</td>\n",
              "      <td>0.900000</td>\n",
              "      <td>4.700000</td>\n",
              "      <td>2.000000</td>\n",
              "      <td>101249.000000</td>\n",
              "      <td>2.300000</td>\n",
              "      <td>0.000000</td>\n",
              "      <td>0.000000</td>\n",
              "      <td>101162.000000</td>\n",
              "    </tr>\n",
              "    <tr>\n",
              "      <th>50%</th>\n",
              "      <td>2.140045e+07</td>\n",
              "      <td>1.000000</td>\n",
              "      <td>5.000000</td>\n",
              "      <td>2.000000</td>\n",
              "      <td>12.453344</td>\n",
              "      <td>1.000000</td>\n",
              "      <td>1.600000</td>\n",
              "      <td>13.700000</td>\n",
              "      <td>2.000000</td>\n",
              "      <td>201949.000000</td>\n",
              "      <td>3.700000</td>\n",
              "      <td>0.000000</td>\n",
              "      <td>0.000000</td>\n",
              "      <td>201939.000000</td>\n",
              "    </tr>\n",
              "    <tr>\n",
              "      <th>75%</th>\n",
              "      <td>2.140067e+07</td>\n",
              "      <td>9.000000</td>\n",
              "      <td>9.000000</td>\n",
              "      <td>3.000000</td>\n",
              "      <td>16.400000</td>\n",
              "      <td>2.000000</td>\n",
              "      <td>3.700000</td>\n",
              "      <td>22.500000</td>\n",
              "      <td>3.000000</td>\n",
              "      <td>203079.000000</td>\n",
              "      <td>5.300000</td>\n",
              "      <td>1.000000</td>\n",
              "      <td>2.000000</td>\n",
              "      <td>202704.000000</td>\n",
              "    </tr>\n",
              "    <tr>\n",
              "      <th>max</th>\n",
              "      <td>2.140091e+07</td>\n",
              "      <td>53.000000</td>\n",
              "      <td>38.000000</td>\n",
              "      <td>7.000000</td>\n",
              "      <td>24.000000</td>\n",
              "      <td>32.000000</td>\n",
              "      <td>24.000000</td>\n",
              "      <td>47.200000</td>\n",
              "      <td>3.000000</td>\n",
              "      <td>530027.000000</td>\n",
              "      <td>53.200000</td>\n",
              "      <td>1.000000</td>\n",
              "      <td>3.000000</td>\n",
              "      <td>204060.000000</td>\n",
              "    </tr>\n",
              "  </tbody>\n",
              "</table>\n",
              "</div>\n",
              "    <div class=\"colab-df-buttons\">\n",
              "\n",
              "  <div class=\"colab-df-container\">\n",
              "    <button class=\"colab-df-convert\" onclick=\"convertToInteractive('df-8b72ad8a-95c4-439f-b10a-c48cf159fbe7')\"\n",
              "            title=\"Convert this dataframe to an interactive table.\"\n",
              "            style=\"display:none;\">\n",
              "\n",
              "  <svg xmlns=\"http://www.w3.org/2000/svg\" height=\"24px\" viewBox=\"0 -960 960 960\">\n",
              "    <path d=\"M120-120v-720h720v720H120Zm60-500h600v-160H180v160Zm220 220h160v-160H400v160Zm0 220h160v-160H400v160ZM180-400h160v-160H180v160Zm440 0h160v-160H620v160ZM180-180h160v-160H180v160Zm440 0h160v-160H620v160Z\"/>\n",
              "  </svg>\n",
              "    </button>\n",
              "\n",
              "  <style>\n",
              "    .colab-df-container {\n",
              "      display:flex;\n",
              "      gap: 12px;\n",
              "    }\n",
              "\n",
              "    .colab-df-convert {\n",
              "      background-color: #E8F0FE;\n",
              "      border: none;\n",
              "      border-radius: 50%;\n",
              "      cursor: pointer;\n",
              "      display: none;\n",
              "      fill: #1967D2;\n",
              "      height: 32px;\n",
              "      padding: 0 0 0 0;\n",
              "      width: 32px;\n",
              "    }\n",
              "\n",
              "    .colab-df-convert:hover {\n",
              "      background-color: #E2EBFA;\n",
              "      box-shadow: 0px 1px 2px rgba(60, 64, 67, 0.3), 0px 1px 3px 1px rgba(60, 64, 67, 0.15);\n",
              "      fill: #174EA6;\n",
              "    }\n",
              "\n",
              "    .colab-df-buttons div {\n",
              "      margin-bottom: 4px;\n",
              "    }\n",
              "\n",
              "    [theme=dark] .colab-df-convert {\n",
              "      background-color: #3B4455;\n",
              "      fill: #D2E3FC;\n",
              "    }\n",
              "\n",
              "    [theme=dark] .colab-df-convert:hover {\n",
              "      background-color: #434B5C;\n",
              "      box-shadow: 0px 1px 3px 1px rgba(0, 0, 0, 0.15);\n",
              "      filter: drop-shadow(0px 1px 2px rgba(0, 0, 0, 0.3));\n",
              "      fill: #FFFFFF;\n",
              "    }\n",
              "  </style>\n",
              "\n",
              "    <script>\n",
              "      const buttonEl =\n",
              "        document.querySelector('#df-8b72ad8a-95c4-439f-b10a-c48cf159fbe7 button.colab-df-convert');\n",
              "      buttonEl.style.display =\n",
              "        google.colab.kernel.accessAllowed ? 'block' : 'none';\n",
              "\n",
              "      async function convertToInteractive(key) {\n",
              "        const element = document.querySelector('#df-8b72ad8a-95c4-439f-b10a-c48cf159fbe7');\n",
              "        const dataTable =\n",
              "          await google.colab.kernel.invokeFunction('convertToInteractive',\n",
              "                                                    [key], {});\n",
              "        if (!dataTable) return;\n",
              "\n",
              "        const docLinkHtml = 'Like what you see? Visit the ' +\n",
              "          '<a target=\"_blank\" href=https://colab.research.google.com/notebooks/data_table.ipynb>data table notebook</a>'\n",
              "          + ' to learn more about interactive tables.';\n",
              "        element.innerHTML = '';\n",
              "        dataTable['output_type'] = 'display_data';\n",
              "        await google.colab.output.renderOutput(dataTable, element);\n",
              "        const docLink = document.createElement('div');\n",
              "        docLink.innerHTML = docLinkHtml;\n",
              "        element.appendChild(docLink);\n",
              "      }\n",
              "    </script>\n",
              "  </div>\n",
              "\n",
              "\n",
              "<div id=\"df-ebdb5999-4c34-4ef0-985c-de13dbfe308e\">\n",
              "  <button class=\"colab-df-quickchart\" onclick=\"quickchart('df-ebdb5999-4c34-4ef0-985c-de13dbfe308e')\"\n",
              "            title=\"Suggest charts\"\n",
              "            style=\"display:none;\">\n",
              "\n",
              "<svg xmlns=\"http://www.w3.org/2000/svg\" height=\"24px\"viewBox=\"0 0 24 24\"\n",
              "     width=\"24px\">\n",
              "    <g>\n",
              "        <path d=\"M19 3H5c-1.1 0-2 .9-2 2v14c0 1.1.9 2 2 2h14c1.1 0 2-.9 2-2V5c0-1.1-.9-2-2-2zM9 17H7v-7h2v7zm4 0h-2V7h2v10zm4 0h-2v-4h2v4z\"/>\n",
              "    </g>\n",
              "</svg>\n",
              "  </button>\n",
              "\n",
              "<style>\n",
              "  .colab-df-quickchart {\n",
              "      --bg-color: #E8F0FE;\n",
              "      --fill-color: #1967D2;\n",
              "      --hover-bg-color: #E2EBFA;\n",
              "      --hover-fill-color: #174EA6;\n",
              "      --disabled-fill-color: #AAA;\n",
              "      --disabled-bg-color: #DDD;\n",
              "  }\n",
              "\n",
              "  [theme=dark] .colab-df-quickchart {\n",
              "      --bg-color: #3B4455;\n",
              "      --fill-color: #D2E3FC;\n",
              "      --hover-bg-color: #434B5C;\n",
              "      --hover-fill-color: #FFFFFF;\n",
              "      --disabled-bg-color: #3B4455;\n",
              "      --disabled-fill-color: #666;\n",
              "  }\n",
              "\n",
              "  .colab-df-quickchart {\n",
              "    background-color: var(--bg-color);\n",
              "    border: none;\n",
              "    border-radius: 50%;\n",
              "    cursor: pointer;\n",
              "    display: none;\n",
              "    fill: var(--fill-color);\n",
              "    height: 32px;\n",
              "    padding: 0;\n",
              "    width: 32px;\n",
              "  }\n",
              "\n",
              "  .colab-df-quickchart:hover {\n",
              "    background-color: var(--hover-bg-color);\n",
              "    box-shadow: 0 1px 2px rgba(60, 64, 67, 0.3), 0 1px 3px 1px rgba(60, 64, 67, 0.15);\n",
              "    fill: var(--button-hover-fill-color);\n",
              "  }\n",
              "\n",
              "  .colab-df-quickchart-complete:disabled,\n",
              "  .colab-df-quickchart-complete:disabled:hover {\n",
              "    background-color: var(--disabled-bg-color);\n",
              "    fill: var(--disabled-fill-color);\n",
              "    box-shadow: none;\n",
              "  }\n",
              "\n",
              "  .colab-df-spinner {\n",
              "    border: 2px solid var(--fill-color);\n",
              "    border-color: transparent;\n",
              "    border-bottom-color: var(--fill-color);\n",
              "    animation:\n",
              "      spin 1s steps(1) infinite;\n",
              "  }\n",
              "\n",
              "  @keyframes spin {\n",
              "    0% {\n",
              "      border-color: transparent;\n",
              "      border-bottom-color: var(--fill-color);\n",
              "      border-left-color: var(--fill-color);\n",
              "    }\n",
              "    20% {\n",
              "      border-color: transparent;\n",
              "      border-left-color: var(--fill-color);\n",
              "      border-top-color: var(--fill-color);\n",
              "    }\n",
              "    30% {\n",
              "      border-color: transparent;\n",
              "      border-left-color: var(--fill-color);\n",
              "      border-top-color: var(--fill-color);\n",
              "      border-right-color: var(--fill-color);\n",
              "    }\n",
              "    40% {\n",
              "      border-color: transparent;\n",
              "      border-right-color: var(--fill-color);\n",
              "      border-top-color: var(--fill-color);\n",
              "    }\n",
              "    60% {\n",
              "      border-color: transparent;\n",
              "      border-right-color: var(--fill-color);\n",
              "    }\n",
              "    80% {\n",
              "      border-color: transparent;\n",
              "      border-right-color: var(--fill-color);\n",
              "      border-bottom-color: var(--fill-color);\n",
              "    }\n",
              "    90% {\n",
              "      border-color: transparent;\n",
              "      border-bottom-color: var(--fill-color);\n",
              "    }\n",
              "  }\n",
              "</style>\n",
              "\n",
              "  <script>\n",
              "    async function quickchart(key) {\n",
              "      const quickchartButtonEl =\n",
              "        document.querySelector('#' + key + ' button');\n",
              "      quickchartButtonEl.disabled = true;  // To prevent multiple clicks.\n",
              "      quickchartButtonEl.classList.add('colab-df-spinner');\n",
              "      try {\n",
              "        const charts = await google.colab.kernel.invokeFunction(\n",
              "            'suggestCharts', [key], {});\n",
              "      } catch (error) {\n",
              "        console.error('Error during call to suggestCharts:', error);\n",
              "      }\n",
              "      quickchartButtonEl.classList.remove('colab-df-spinner');\n",
              "      quickchartButtonEl.classList.add('colab-df-quickchart-complete');\n",
              "    }\n",
              "    (() => {\n",
              "      let quickchartButtonEl =\n",
              "        document.querySelector('#df-ebdb5999-4c34-4ef0-985c-de13dbfe308e button');\n",
              "      quickchartButtonEl.style.display =\n",
              "        google.colab.kernel.accessAllowed ? 'block' : 'none';\n",
              "    })();\n",
              "  </script>\n",
              "</div>\n",
              "    </div>\n",
              "  </div>\n"
            ]
          },
          "metadata": {},
          "execution_count": 14
        }
      ],
      "source": [
        "df.describe()"
      ]
    },
    {
      "cell_type": "code",
      "execution_count": null,
      "metadata": {
        "colab": {
          "base_uri": "https://localhost:8080/"
        },
        "id": "HGHD4hAs5irr",
        "outputId": "45d2a7d6-fe76-4653-97ab-b8c00a80cb98"
      },
      "outputs": [
        {
          "output_type": "stream",
          "name": "stdout",
          "text": [
            "<class 'pandas.core.frame.DataFrame'>\n",
            "RangeIndex: 128069 entries, 0 to 128068\n",
            "Data columns (total 21 columns):\n",
            " #   Column                      Non-Null Count   Dtype  \n",
            "---  ------                      --------------   -----  \n",
            " 0   GAME_ID                     128069 non-null  int64  \n",
            " 1   MATCHUP                     128069 non-null  object \n",
            " 2   LOCATION                    128069 non-null  object \n",
            " 3   W                           128069 non-null  object \n",
            " 4   FINAL_MARGIN                128069 non-null  int64  \n",
            " 5   SHOT_NUMBER                 128069 non-null  int64  \n",
            " 6   PERIOD                      128069 non-null  int64  \n",
            " 7   GAME_CLOCK                  128069 non-null  object \n",
            " 8   SHOT_CLOCK                  128069 non-null  float64\n",
            " 9   DRIBBLES                    128069 non-null  int64  \n",
            " 10  TOUCH_TIME                  128069 non-null  float64\n",
            " 11  SHOT_DIST                   128069 non-null  float64\n",
            " 12  PTS_TYPE                    128069 non-null  int64  \n",
            " 13  SHOT_RESULT                 128069 non-null  object \n",
            " 14  CLOSEST_DEFENDER            128069 non-null  object \n",
            " 15  CLOSEST_DEFENDER_PLAYER_ID  128069 non-null  int64  \n",
            " 16  CLOSE_DEF_DIST              128069 non-null  float64\n",
            " 17  FGM                         128069 non-null  int64  \n",
            " 18  PTS                         128069 non-null  int64  \n",
            " 19  player_name                 128069 non-null  object \n",
            " 20  player_id                   128069 non-null  int64  \n",
            "dtypes: float64(4), int64(10), object(7)\n",
            "memory usage: 20.5+ MB\n"
          ]
        }
      ],
      "source": [
        "df.info()"
      ]
    },
    {
      "cell_type": "code",
      "execution_count": null,
      "metadata": {
        "id": "Rt6dLT-_5n94"
      },
      "outputs": [],
      "source": [
        "df.LOCATION = df.LOCATION.map({\"H\":1,\"A\":0})\n",
        "df.W = df.W.map({\"W\":1,\"L\":0})\n",
        "df.PTS_TYPE = df.PTS_TYPE.map({2:0,3:1})\n",
        "df.SHOT_RESULT = df.SHOT_RESULT.map({\"made\":1,\"missed\":0})"
      ]
    },
    {
      "cell_type": "code",
      "execution_count": null,
      "metadata": {
        "id": "DEDqeIV27HSS"
      },
      "outputs": [],
      "source": [
        "df = df.rename(columns={\"LOCATION\":\"HOME_AWAY\",\"PTS_TYPE\":\"3PTS_SHOT\",\"player_name\":\"PLAYER_NAME\",\"player_id\":\"PLAYER_ID\"})\n"
      ]
    },
    {
      "cell_type": "code",
      "execution_count": null,
      "metadata": {
        "id": "ysCcv7Bz7vHB"
      },
      "outputs": [],
      "source": [
        "df.nunique()"
      ]
    },
    {
      "cell_type": "code",
      "execution_count": null,
      "metadata": {
        "id": "28E8Tpdt88fz"
      },
      "outputs": [],
      "source": [
        "df.head()"
      ]
    },
    {
      "cell_type": "code",
      "execution_count": null,
      "metadata": {
        "id": "JLLki8ri71cf"
      },
      "outputs": [],
      "source": [
        "df.GAME_CLOCK = df.GAME_CLOCK.apply(lambda x: int(x.split(\":\")[0])*60 + int(x.split(\":\")[1]))"
      ]
    },
    {
      "cell_type": "code",
      "execution_count": null,
      "metadata": {
        "id": "CV3ciNQuFE9d"
      },
      "outputs": [],
      "source": [
        "df.head()"
      ]
    },
    {
      "cell_type": "code",
      "execution_count": null,
      "metadata": {
        "id": "32sqZ8jsFJBo"
      },
      "outputs": [],
      "source": [
        "df = df.drop(columns=[\"GAME_ID\",\n",
        "                          \"MATCHUP\",\n",
        "                          \"W\",\n",
        "                          \"PLAYER_NAME\",\n",
        "                          \"SHOT_NUMBER\",\n",
        "                          \"CLOSEST_DEFENDER\",\n",
        "                          \"CLOSEST_DEFENDER_PLAYER_ID\",\n",
        "                          \"FGM\",\n",
        "                          \"PTS\",\n",
        "                          \"PLAYER_ID\"], axis=1)"
      ]
    },
    {
      "cell_type": "code",
      "execution_count": null,
      "metadata": {
        "id": "libSvcxrJnh6"
      },
      "outputs": [],
      "source": [
        "df.head()"
      ]
    },
    {
      "cell_type": "code",
      "execution_count": null,
      "metadata": {
        "id": "sqI9Rb4J1HBJ"
      },
      "outputs": [],
      "source": [
        "X1 = df[[\"HOME_AWAY\",\t\"FINAL_MARGIN\",\t\"PERIOD\",\t\"GAME_CLOCK\",\t\"SHOT_CLOCK\",\t\"DRIBBLES\",\t\"TOUCH_TIME\",\t\"SHOT_DIST\", \"3PTS_SHOT\",\t\"CLOSE_DEF_DIST\"]]\n",
        "Y1 = df['SHOT_RESULT']\n"
      ]
    },
    {
      "cell_type": "code",
      "execution_count": null,
      "metadata": {
        "id": "vr-IwtAhGp9-"
      },
      "outputs": [],
      "source": [
        "X1_Train, X1_Test, Y1_Train, Y1_Test = train_test_split(X1, Y1, test_size=0.2)"
      ]
    },
    {
      "cell_type": "code",
      "execution_count": null,
      "metadata": {
        "colab": {
          "base_uri": "https://localhost:8080/"
        },
        "id": "_IswdX-v4lMg",
        "outputId": "6c67385b-1463-471c-adda-57f6f8b5f32b"
      },
      "outputs": [
        {
          "output_type": "stream",
          "name": "stdout",
          "text": [
            "CPU times: user 799 ms, sys: 6.64 ms, total: 805 ms\n",
            "Wall time: 429 ms\n"
          ]
        }
      ],
      "source": [
        "%%time\n",
        "xgbst1 = XGBClassifier(n_estimators=50, max_depth=3, learning_rate=0.1, objective='binary:logistic')\n",
        "\n",
        "xgbst1.fit(X1_Train, Y1_Train)\n",
        "\n",
        "Y1_Pred = xgbst1.predict(X1_Test)"
      ]
    },
    {
      "cell_type": "code",
      "execution_count": null,
      "metadata": {
        "colab": {
          "base_uri": "https://localhost:8080/"
        },
        "id": "ZN91mkmC7QCc",
        "outputId": "3e0487f0-d952-46f5-d73f-7bf9d42a6a8f"
      },
      "outputs": [
        {
          "output_type": "stream",
          "name": "stdout",
          "text": [
            "Accuracy: 0.6220035917857422\n",
            "Confusion Matrix:\n",
            "[[12195  1896]\n",
            " [ 7786  3737]]\n",
            "Classification Report:\n",
            "              precision    recall  f1-score   support\n",
            "\n",
            "           0       0.61      0.87      0.72     14091\n",
            "           1       0.66      0.32      0.44     11523\n",
            "\n",
            "    accuracy                           0.62     25614\n",
            "   macro avg       0.64      0.59      0.58     25614\n",
            "weighted avg       0.63      0.62      0.59     25614\n",
            "\n"
          ]
        }
      ],
      "source": [
        "Accuracy = accuracy_score(Y1_Test, Y1_Pred)\n",
        "Confusion_Matrix = confusion_matrix(Y1_Test, Y1_Pred)\n",
        "Classification_Report = classification_report(Y1_Test, Y1_Pred)\n",
        "\n",
        "print(f'Accuracy: {Accuracy}')\n",
        "print('Confusion Matrix:')\n",
        "print(Confusion_Matrix)\n",
        "print('Classification Report:')\n",
        "print(Classification_Report)"
      ]
    },
    {
      "cell_type": "code",
      "execution_count": null,
      "metadata": {
        "colab": {
          "base_uri": "https://localhost:8080/",
          "height": 472
        },
        "id": "ZeT_W4C5_WSg",
        "outputId": "48f1ebea-b3f4-44be-bc4b-408efd0ef465"
      },
      "outputs": [
        {
          "output_type": "display_data",
          "data": {
            "text/plain": [
              "<Figure size 640x480 with 1 Axes>"
            ],
            "image/png": "[encoded data removed]"
          },
          "metadata": {}
        }
      ],
      "source": [
        "# plot feature importance\n",
        "plot_importance(xgbst1)\n",
        "plt.show()"
      ]
    },
    {
      "cell_type": "code",
      "execution_count": null,
      "metadata": {
        "id": "yTlB5_zzCyZk"
      },
      "outputs": [],
      "source": [
        "X2 = df[[\"FINAL_MARGIN\",\t\"SHOT_CLOCK\",\t\"TOUCH_TIME\",\t\"SHOT_DIST\",\t\"CLOSE_DEF_DIST\"]]\n",
        "Y2 = df['SHOT_RESULT']"
      ]
    },
    {
      "cell_type": "code",
      "execution_count": null,
      "metadata": {
        "id": "s4xJo6QsG4ph"
      },
      "outputs": [],
      "source": [
        "X2_Train, X2_Test, Y2_Train, Y2_Test = train_test_split(X2, Y2, test_size=0.2)"
      ]
    },
    {
      "cell_type": "code",
      "execution_count": null,
      "metadata": {
        "colab": {
          "base_uri": "https://localhost:8080/"
        },
        "id": "o5QihKnJDP6G",
        "outputId": "c256aa38-8d1e-4ee5-ebfb-78e5076cfde5"
      },
      "outputs": [
        {
          "output_type": "stream",
          "name": "stdout",
          "text": [
            "CPU times: user 645 ms, sys: 6.55 ms, total: 652 ms\n",
            "Wall time: 349 ms\n"
          ]
        }
      ],
      "source": [
        "%%time\n",
        "xgbst2 = XGBClassifier(n_estimators=50, max_depth=3, learning_rate=0.1, objective='binary:logistic')\n",
        "\n",
        "xgbst2.fit(X2_Train, Y2_Train)\n",
        "\n",
        "Y2_Pred = xgbst2.predict(X2_Test)"
      ]
    },
    {
      "cell_type": "code",
      "execution_count": null,
      "metadata": {
        "colab": {
          "base_uri": "https://localhost:8080/"
        },
        "id": "QT62L07isNqY",
        "outputId": "181531d3-e2d0-4b15-dfa1-0cccdf6abba9"
      },
      "outputs": [
        {
          "output_type": "stream",
          "name": "stdout",
          "text": [
            "Accuracy: 0.623955649254314\n",
            "Confusion Matrix:\n",
            "[[12094  2100]\n",
            " [ 7532  3888]]\n",
            "Classification Report:\n",
            "              precision    recall  f1-score   support\n",
            "\n",
            "           0       0.62      0.85      0.72     14194\n",
            "           1       0.65      0.34      0.45     11420\n",
            "\n",
            "    accuracy                           0.62     25614\n",
            "   macro avg       0.63      0.60      0.58     25614\n",
            "weighted avg       0.63      0.62      0.60     25614\n",
            "\n"
          ]
        }
      ],
      "source": [
        "Accuracy = accuracy_score(Y2_Test, Y2_Pred)\n",
        "Confusion_Matrix = confusion_matrix(Y2_Test, Y2_Pred)\n",
        "Classification_Report = classification_report(Y2_Test, Y2_Pred)\n",
        "\n",
        "print(f'Accuracy: {Accuracy}')\n",
        "print('Confusion Matrix:')\n",
        "print(Confusion_Matrix)\n",
        "print('Classification Report:')\n",
        "print(Classification_Report)"
      ]
    },
    {
      "cell_type": "code",
      "execution_count": null,
      "metadata": {
        "colab": {
          "base_uri": "https://localhost:8080/",
          "height": 472
        },
        "id": "T1ys7wx0p113",
        "outputId": "c6717f81-a506-41a4-ba1c-89a72cf99f00"
      },
      "outputs": [
        {
          "output_type": "display_data",
          "data": {
            "text/plain": [
              "<Figure size 640x480 with 1 Axes>"
            ],
            "image/png": "[encoded data removed]"
          },
          "metadata": {}
        }
      ],
      "source": [
        "plot_importance(xgbst2)\n",
        "plt.show()"
      ]
    },
    {
      "cell_type": "code",
      "source": [
        "scaler = StandardScaler()\n",
        "X_Train_scaled = scaler.fit_transform(X2_Train)\n",
        "X_Test_scaled = scaler.transform(X2_Test)"
      ],
      "metadata": {
        "id": "dNHj-zoAUKe0"
      },
      "execution_count": null,
      "outputs": []
    },
    {
      "cell_type": "code",
      "source": [
        "%%time\n",
        "SVM_Model = SVC(kernel='linear')\n",
        "SVM_Model.fit(X_Train_scaled, Y2_Train)"
      ],
      "metadata": {
        "id": "E7WNZh3EUb1j",
        "colab": {
          "base_uri": "https://localhost:8080/",
          "height": 109
        },
        "outputId": "6e3f35b9-d69c-4f66-ca9d-f3c33c7f88cc"
      },
      "execution_count": null,
      "outputs": [
        {
          "output_type": "stream",
          "name": "stdout",
          "text": [
            "CPU times: user 9min 9s, sys: 1.12 s, total: 9min 11s\n",
            "Wall time: 9min 33s\n"
          ]
        },
        {
          "output_type": "execute_result",
          "data": {
            "text/plain": [
              "SVC(kernel='linear')"
            ],
            "text/html": [
              "<style>#sk-container-id-1 {color: black;background-color: white;}#sk-container-id-1 pre{padding: 0;}#sk-container-id-1 div.sk-toggleable {background-color: white;}#sk-container-id-1 label.sk-toggleable__label {cursor: pointer;display: block;width: 100%;margin-bottom: 0;padding: 0.3em;box-sizing: border-box;text-align: center;}#sk-container-id-1 label.sk-toggleable__label-arrow:before {content: \"▸\";float: left;margin-right: 0.25em;color: #696969;}#sk-container-id-1 label.sk-toggleable__label-arrow:hover:before {color: black;}#sk-container-id-1 div.sk-estimator:hover label.sk-toggleable__label-arrow:before {color: black;}#sk-container-id-1 div.sk-toggleable__content {max-height: 0;max-width: 0;overflow: hidden;text-align: left;background-color: #f0f8ff;}#sk-container-id-1 div.sk-toggleable__content pre {margin: 0.2em;color: black;border-radius: 0.25em;background-color: #f0f8ff;}#sk-container-id-1 input.sk-toggleable__control:checked~div.sk-toggleable__content {max-height: 200px;max-width: 100%;overflow: auto;}#sk-container-id-1 input.sk-toggleable__control:checked~label.sk-toggleable__label-arrow:before {content: \"▾\";}#sk-container-id-1 div.sk-estimator input.sk-toggleable__control:checked~label.sk-toggleable__label {background-color: #d4ebff;}#sk-container-id-1 div.sk-label input.sk-toggleable__control:checked~label.sk-toggleable__label {background-color: #d4ebff;}#sk-container-id-1 input.sk-hidden--visually {border: 0;clip: rect(1px 1px 1px 1px);clip: rect(1px, 1px, 1px, 1px);height: 1px;margin: -1px;overflow: hidden;padding: 0;position: absolute;width: 1px;}#sk-container-id-1 div.sk-estimator {font-family: monospace;background-color: #f0f8ff;border: 1px dotted black;border-radius: 0.25em;box-sizing: border-box;margin-bottom: 0.5em;}#sk-container-id-1 div.sk-estimator:hover {background-color: #d4ebff;}#sk-container-id-1 div.sk-parallel-item::after {content: \"\";width: 100%;border-bottom: 1px solid gray;flex-grow: 1;}#sk-container-id-1 div.sk-label:hover label.sk-toggleable__label {background-color: #d4ebff;}#sk-container-id-1 div.sk-serial::before {content: \"\";position: absolute;border-left: 1px solid gray;box-sizing: border-box;top: 0;bottom: 0;left: 50%;z-index: 0;}#sk-container-id-1 div.sk-serial {display: flex;flex-direction: column;align-items: center;background-color: white;padding-right: 0.2em;padding-left: 0.2em;position: relative;}#sk-container-id-1 div.sk-item {position: relative;z-index: 1;}#sk-container-id-1 div.sk-parallel {display: flex;align-items: stretch;justify-content: center;background-color: white;position: relative;}#sk-container-id-1 div.sk-item::before, #sk-container-id-1 div.sk-parallel-item::before {content: \"\";position: absolute;border-left: 1px solid gray;box-sizing: border-box;top: 0;bottom: 0;left: 50%;z-index: -1;}#sk-container-id-1 div.sk-parallel-item {display: flex;flex-direction: column;z-index: 1;position: relative;background-color: white;}#sk-container-id-1 div.sk-parallel-item:first-child::after {align-self: flex-end;width: 50%;}#sk-container-id-1 div.sk-parallel-item:last-child::after {align-self: flex-start;width: 50%;}#sk-container-id-1 div.sk-parallel-item:only-child::after {width: 0;}#sk-container-id-1 div.sk-dashed-wrapped {border: 1px dashed gray;margin: 0 0.4em 0.5em 0.4em;box-sizing: border-box;padding-bottom: 0.4em;background-color: white;}#sk-container-id-1 div.sk-label label {font-family: monospace;font-weight: bold;display: inline-block;line-height: 1.2em;}#sk-container-id-1 div.sk-label-container {text-align: center;}#sk-container-id-1 div.sk-container {/* jupyter's `normalize.less` sets `[hidden] { display: none; }` but bootstrap.min.css set `[hidden] { display: none !important; }` so we also need the `!important` here to be able to override the default hidden behavior on the sphinx rendered scikit-learn.org. See: https://github.com/scikit-learn/scikit-learn/issues/21755 */display: inline-block !important;position: relative;}#sk-container-id-1 div.sk-text-repr-fallback {display: none;}</style><div id=\"sk-container-id-1\" class=\"sk-top-container\"><div class=\"sk-text-repr-fallback\"><pre>SVC(kernel=&#x27;linear&#x27;)</pre><b>In a Jupyter environment, please rerun this cell to show the HTML representation or trust the notebook. <br />On GitHub, the HTML representation is unable to render, please try loading this page with nbviewer.org.</b></div><div class=\"sk-container\" hidden><div class=\"sk-item\"><div class=\"sk-estimator sk-toggleable\"><input class=\"sk-toggleable__control sk-hidden--visually\" id=\"sk-estimator-id-1\" type=\"checkbox\" checked><label for=\"sk-estimator-id-1\" class=\"sk-toggleable__label sk-toggleable__label-arrow\">SVC</label><div class=\"sk-toggleable__content\"><pre>SVC(kernel=&#x27;linear&#x27;)</pre></div></div></div></div></div>"
            ]
          },
          "metadata": {},
          "execution_count": 35
        }
      ]
    },
    {
      "cell_type": "code",
      "source": [
        "Y3_Pred = SVM_Model.predict(X_Test_scaled)"
      ],
      "metadata": {
        "id": "2yoizKbjUp2K"
      },
      "execution_count": null,
      "outputs": []
    },
    {
      "cell_type": "code",
      "source": [
        "Accuracy = accuracy_score(Y2_Test, Y3_Pred)\n",
        "Confusion_Matrix = confusion_matrix(Y2_Test, Y3_Pred)\n",
        "Classification_Report = classification_report(Y2_Test, Y3_Pred)\n",
        "\n",
        "print(f'Accuracy: {Accuracy}')\n",
        "print('Confusion Matrix:')\n",
        "print(Confusion_Matrix)\n",
        "print('Classification Report:')\n",
        "print(Classification_Report)"
      ],
      "metadata": {
        "id": "aW_MQBTFUz3_",
        "colab": {
          "base_uri": "https://localhost:8080/"
        },
        "outputId": "84e93a08-1cf4-4bf5-ea8d-78c725055686"
      },
      "execution_count": null,
      "outputs": [
        {
          "output_type": "stream",
          "name": "stdout",
          "text": [
            "Accuracy: 0.5985398610135082\n",
            "Confusion Matrix:\n",
            "[[9499 4695]\n",
            " [5588 5832]]\n",
            "Classification Report:\n",
            "              precision    recall  f1-score   support\n",
            "\n",
            "           0       0.63      0.67      0.65     14194\n",
            "           1       0.55      0.51      0.53     11420\n",
            "\n",
            "    accuracy                           0.60     25614\n",
            "   macro avg       0.59      0.59      0.59     25614\n",
            "weighted avg       0.60      0.60      0.60     25614\n",
            "\n"
          ]
        }
      ]
    },
    {
      "cell_type": "code",
      "source": [
        "%%time\n",
        "RF_Model = RandomForestClassifier(n_estimators=50, max_depth=3)\n",
        "RF_Model.fit(X2_Train, Y2_Train)\n",
        "Y4_Pred = RF_Model.predict(X2_Test)\n"
      ],
      "metadata": {
        "id": "IGFEfhE1crVD",
        "colab": {
          "base_uri": "https://localhost:8080/"
        },
        "outputId": "78cdf910-e83d-46f1-cd43-30ff07a8531a"
      },
      "execution_count": null,
      "outputs": [
        {
          "output_type": "stream",
          "name": "stdout",
          "text": [
            "CPU times: user 1.97 s, sys: 6 ms, total: 1.97 s\n",
            "Wall time: 1.98 s\n"
          ]
        }
      ]
    },
    {
      "cell_type": "code",
      "source": [
        "Accuracy = accuracy_score(Y2_Test, Y4_Pred)\n",
        "Confusion_Matrix = confusion_matrix(Y2_Test, Y4_Pred)\n",
        "Classification_Report = classification_report(Y2_Test, Y4_Pred)\n",
        "\n",
        "print(f'Accuracy: {Accuracy}')\n",
        "print('Confusion Matrix:')\n",
        "print(Confusion_Matrix)\n",
        "print('Classification Report:')\n",
        "print(Classification_Report)"
      ],
      "metadata": {
        "id": "T698nfvDdyuw",
        "colab": {
          "base_uri": "https://localhost:8080/"
        },
        "outputId": "e9596bea-ef60-436f-883d-3c2e6c06d3ed"
      },
      "execution_count": null,
      "outputs": [
        {
          "output_type": "stream",
          "name": "stdout",
          "text": [
            "Accuracy: 0.6133754977746545\n",
            "Confusion Matrix:\n",
            "[[11510  2684]\n",
            " [ 7219  4201]]\n",
            "Classification Report:\n",
            "              precision    recall  f1-score   support\n",
            "\n",
            "           0       0.61      0.81      0.70     14194\n",
            "           1       0.61      0.37      0.46     11420\n",
            "\n",
            "    accuracy                           0.61     25614\n",
            "   macro avg       0.61      0.59      0.58     25614\n",
            "weighted avg       0.61      0.61      0.59     25614\n",
            "\n"
          ]
        }
      ]
    },
    {
      "cell_type": "code",
      "source": [
        "# SVM\n",
        "fpr_svm, tpr_svm, thresholds_svm = roc_curve(Y2_Test, Y3_Pred,pos_label=1)\n",
        "roc_auc_svm = auc(fpr_svm, tpr_svm)\n",
        "\n",
        "# Random Forest\n",
        "fpr_rf, tpr_rf, thresholds_rf = roc_curve(Y2_Test,Y4_Pred,pos_label=1)\n",
        "roc_auc_rf = auc(fpr_rf, tpr_rf)\n",
        "\n",
        "# XGBoost\n",
        "fpr_xgb, tpr_xgb, thresholds_xgb = roc_curve(Y2_Test,Y2_Pred,pos_label=1)\n",
        "roc_auc_xgb = auc(fpr_xgb, tpr_xgb)\n",
        "\n",
        "# Plot ROC curves\n",
        "plt.figure(figsize=(10, 6))\n",
        "plt.plot(fpr_svm, tpr_svm, label='SVM (AUC = {:.2f})'.format(roc_auc_svm))\n",
        "plt.plot(fpr_rf, tpr_rf, label='Random Forest (AUC = {:.2f})'.format(roc_auc_rf))\n",
        "plt.plot(fpr_xgb, tpr_xgb, label='XGBoost (AUC = {:.2f})'.format(roc_auc_xgb))\n",
        "\n",
        "# Plot the diagonal line (random classifier)\n",
        "plt.plot([0, 1], [0, 1], linestyle='--', color='gray', label='Random')\n",
        "\n",
        "plt.xlabel('False Positive Rate')\n",
        "plt.ylabel('True Positive Rate')\n",
        "plt.title('ROC Curve for NBA Shot Prediction')\n",
        "plt.legend()\n",
        "plt.show()"
      ],
      "metadata": {
        "id": "2hcj18lQd5b4",
        "colab": {
          "base_uri": "https://localhost:8080/",
          "height": 564
        },
        "outputId": "57ef339c-decf-4204-daa4-dafeb3589e3a"
      },
      "execution_count": null,
      "outputs": [
        {
          "output_type": "display_data",
          "data": {
            "text/plain": [
              "<Figure size 1000x600 with 1 Axes>"
            ],
            "image/png": "[encoded data removed]"
          },
          "metadata": {}
        }
      ]
    }
  ],
  "metadata": {
    "colab": {
      "provenance": [],
      "include_colab_link": true
    },
    "kernelspec": {
      "display_name": "Python 3",
      "name": "python3"
    },
    "language_info": {
      "name": "python"
    }
  },
  "nbformat": 4,
  "nbformat_minor": 0
}